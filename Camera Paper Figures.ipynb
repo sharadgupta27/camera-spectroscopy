{
 "cells": [
  {
   "cell_type": "markdown",
   "id": "ab8be986-3541-4022-8a09-6550e714775e",
   "metadata": {},
   "source": [
    "# Generate the figures for soil properties presented in the paper"
   ]
  },
  {
   "cell_type": "code",
   "execution_count": 1,
   "id": "89eb26ee-1518-4bc8-8fef-eed257161369",
   "metadata": {},
   "outputs": [],
   "source": [
    "import pandas as pd\n",
    "import matplotlib as mpl\n",
    "import math\n",
    "import time\n",
    "import matplotlib.pyplot as plt\n",
    "import numpy as np\n",
    "import pylab as pl\n",
    "import seaborn as sns\n",
    "# plt.style.use('seaborn-deep')\n",
    "# plt.style.use(\"seaborn-v0_8\")\n",
    "# sns.set_theme()\n",
    "from sklearn.metrics import r2_score, mean_absolute_error, mean_squared_error, make_scorer\n",
    "%matplotlib inline"
   ]
  },
  {
   "cell_type": "code",
   "execution_count": 2,
   "id": "92bc2d76",
   "metadata": {},
   "outputs": [],
   "source": [
    "sns = None\n",
    "mpl.rc_file_defaults()"
   ]
  },
  {
   "cell_type": "code",
   "execution_count": 4,
   "id": "2f6efeaf",
   "metadata": {
    "code_folding": [
     0,
     18,
     51,
     62
    ]
   },
   "outputs": [],
   "source": [
    "def evaluate(measured, predicted):\n",
    "    r2score = r2_score(measured, predicted)\n",
    "    print('R2 Score:', r2score)\n",
    "    \n",
    "    # calculate IQR\n",
    "    q1 = np.percentile(predicted, 25)\n",
    "    q3 = np.percentile(predicted, 75)\n",
    "    iqrCal = q3 - q1\n",
    "\n",
    "    # calculate MAE\n",
    "    mae = mean_absolute_error(measured, predicted)\n",
    "\n",
    "    # calculate RPIQ\n",
    "    rpiq = mae / iqrCal\n",
    "    print(\"RPIQ:\", rpiq)\n",
    "    return r2score, rpiq\n",
    "\n",
    "def curveFitting(measured, predicted, degree):\n",
    "    poly = np.polyfit(measured, predicted, degree)\n",
    "    if degree == 1:\n",
    "        x_range = []\n",
    "#         x_range = np.linspace(np.min(measured), np.max(measured) + 0.05, 3)\n",
    "        poly_trend = np.poly1d(poly)#(x_range)\n",
    "    elif degree > 1:\n",
    "        x_range = np.linspace(np.min(measured), np.max(measured) + 0.5, 100)\n",
    "        poly_trend = np.poly1d(poly)(x_range)\n",
    "    y_hat = np.poly1d(poly)(measured)\n",
    "    \n",
    "#     rsquared = r2_score(measured, predicted)\n",
    "    \n",
    "    rsquared = 1 - (((measured - predicted) ** 2).sum() / ((measured - np.mean(predicted)) ** 2).sum())\n",
    "    \n",
    "    # calculate IQR\n",
    "    q1 = np.percentile(predicted, 25)\n",
    "    q3 = np.percentile(predicted, 75)\n",
    "    iqrCal = q3 - q1\n",
    "\n",
    "    # calculate MAE\n",
    "    mae = mean_absolute_error(measured, predicted)\n",
    "\n",
    "    # calculate RPIQ\n",
    "    rpiq = mae / iqrCal\n",
    "    \n",
    "    # calculate MSE\n",
    "    mse = mean_squared_error(measured, predicted)\n",
    "    rmse = np.sqrt(mse)\n",
    "    \n",
    "    return poly, x_range, poly_trend, rsquared, rpiq, rmse\n",
    "\n",
    "def poly2latex(poly, variable = \"x\", width = 3):\n",
    "    t = [\"{0:0.{width}f}\"]\n",
    "    t.append(\"(\" + t[-1] + \") \" + \" {variable}\")\n",
    "    t.append(t[-1] + \"^{1}\")\n",
    "    def f():\n",
    "        for i, v in enumerate(reversed(poly)):\n",
    "            idx = i if i < 2 else 2\n",
    "            yield t[idx].format(v, i, variable=variable, width=width)\n",
    "    return \"${}$\".format(\"+\".join(f()))\n",
    "\n",
    "def plotSlope(measured, predicted, soilPro, sheet_name, npts, val_limit):\n",
    "    %matplotlib inline\n",
    "    edge = 'black'\n",
    "    point_size = 60\n",
    "    fig, ax = plt.subplots(1,1, figsize = (4.2, 4.2))\n",
    "\n",
    "    X = measured\n",
    "    y = predicted\n",
    "    \n",
    "#     minX = math.floor(X.min())\n",
    "#     maxX = math.ceil(X.max())\n",
    "#     stdX = np.floor(np.std(X))\n",
    "    \n",
    "    poly, x_range, poly_trend, rsquared, rpiq, rmseB = curveFitting(X, y, 1)\n",
    "    ax.scatter(X, y, c = ['red'], edgecolors = edge, s = point_size)\n",
    "    ax.set_xlabel('Measured ' + soilPro, fontsize=12)\n",
    "    ax.set_ylabel('Predicted ' + soilPro, fontsize=12)\n",
    "    ax.set_ylim(val_limit)\n",
    "    ax.set_xlim(val_limit)\n",
    "    \n",
    "    ax.plot([min(X), max(X)], poly_trend([min(X), max(X)]), '--', color='blue', linewidth=1.5)\n",
    "#     ax.plot(X, poly_trend(X), '--', color='blue', linewidth=1.5)\n",
    "#     plt.gca().text(0.05, 0.95, poly2latex(poly), fontsize=10, verticalalignment='top',horizontalalignment='left', transform=ax.transAxes)\n",
    "    textRSq = f\"\\n$Npts = {npts}$\\n$R^2 = {rsquared:0.3f}$\\n$RMSE = {rmseB:0.3f}$\\n$RPIQ = {rpiq:0.3f}$\"\n",
    "    plt.gca().text(0.05, 0.99, textRSq, fontsize=10, verticalalignment='top',horizontalalignment='left', transform=ax.transAxes)\n",
    "    plt.tight_layout()\n",
    "    plt.savefig('./5_Predicted_SoilProperties/'+ sheet_name + '_' + soilPro \\\n",
    "                + '.png', dpi=300, bbox_inches='tight')\n",
    "    time.sleep(2)\n",
    "    plt.close()"
   ]
  },
  {
   "cell_type": "markdown",
   "id": "a4f96475",
   "metadata": {},
   "source": [
    "### Soil Properties\n",
    "'Organic Matter (%)'\n",
    "\n",
    "'CaCO3 (%)'\n",
    "\n",
    "'Higroscopic Water (%)'\n",
    "\n",
    "'Fe dithionite (ppm)'\n",
    "\n",
    "'S.S.A (m2/g)'\n",
    "\n",
    "'Al2O3'"
   ]
  },
  {
   "cell_type": "code",
   "execution_count": 5,
   "id": "4c30f39d",
   "metadata": {},
   "outputs": [
    {
     "name": "stdout",
     "output_type": "stream",
     "text": [
      "['Cal_PLSR', 'Test_PLSR', 'Cal_RR', 'Test_RR', 'Cal_LR', 'Test_LR']\n",
      "Xlimits = [0, 7, 1.0]\n",
      "Ylimits = [0, 6, 1.0]\n"
     ]
    }
   ],
   "source": [
    "soilPro = 'Organic Matter (%)'\n",
    "fname = './4_Calibration_Plots/Organic Matter_Output_Predicted.xlsx'\n",
    "df = pd.ExcelFile(fname)\n",
    "print(df.sheet_names)\n",
    "data = pd.read_excel(fname, sheet_name='Cal_PLSR')\n",
    "actual = data[soilPro]\n",
    "pred = data[\"Predicted\"]\n",
    "minX = math.floor(actual.min())\n",
    "maxX = math.ceil(actual.max())\n",
    "stdX = np.floor(np.std(actual))\n",
    "minY = math.floor(pred.min())\n",
    "maxY = math.ceil(pred.max())\n",
    "stdY = np.floor(np.std(pred))\n",
    "print('Xlimits =', [minX, maxX, stdX])\n",
    "print('Ylimits =', [minY, maxY, stdY])"
   ]
  },
  {
   "cell_type": "code",
   "execution_count": 6,
   "id": "6bcaffcf-c3b7-429a-94df-72bc9ddd56cc",
   "metadata": {
    "code_folding": []
   },
   "outputs": [],
   "source": [
    "for sheets in df.sheet_names:\n",
    "    sheet_name = sheets\n",
    "    val_limit = [0, 8]\n",
    "    dfData = pd.read_excel(fname, sheet_name=sheets)\n",
    "    dfData.dropna(axis=0, inplace=True)\n",
    "    measured = dfData[soilPro]\n",
    "    predicted = dfData[\"Predicted\"]\n",
    "    npts = len(measured)\n",
    "    plotSlope(measured, predicted, soilPro, sheet_name, npts, val_limit)"
   ]
  }
 ],
 "metadata": {
  "kernelspec": {
   "display_name": "Python 3 (ipykernel)",
   "language": "python",
   "name": "python3"
  },
  "language_info": {
   "codemirror_mode": {
    "name": "ipython",
    "version": 3
   },
   "file_extension": ".py",
   "mimetype": "text/x-python",
   "name": "python",
   "nbconvert_exporter": "python",
   "pygments_lexer": "ipython3",
   "version": "3.8.15"
  },
  "nbTranslate": {
   "displayLangs": [
    "*"
   ],
   "hotkey": "alt-t",
   "langInMainMenu": true,
   "sourceLang": "en",
   "targetLang": "fr",
   "useGoogleTranslate": true
  },
  "toc": {
   "base_numbering": 1,
   "nav_menu": {},
   "number_sections": true,
   "sideBar": true,
   "skip_h1_title": false,
   "title_cell": "Table of Contents",
   "title_sidebar": "Contents",
   "toc_cell": false,
   "toc_position": {},
   "toc_section_display": true,
   "toc_window_display": false
  },
  "varInspector": {
   "cols": {
    "lenName": 16,
    "lenType": 16,
    "lenVar": 40
   },
   "kernels_config": {
    "python": {
     "delete_cmd_postfix": "",
     "delete_cmd_prefix": "del ",
     "library": "var_list.py",
     "varRefreshCmd": "print(var_dic_list())"
    },
    "r": {
     "delete_cmd_postfix": ") ",
     "delete_cmd_prefix": "rm(",
     "library": "var_list.r",
     "varRefreshCmd": "cat(var_dic_list()) "
    }
   },
   "types_to_exclude": [
    "module",
    "function",
    "builtin_function_or_method",
    "instance",
    "_Feature"
   ],
   "window_display": false
  }
 },
 "nbformat": 4,
 "nbformat_minor": 5
}
